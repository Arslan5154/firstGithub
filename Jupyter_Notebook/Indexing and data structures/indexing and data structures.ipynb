{
 "cells": [
  {
   "cell_type": "markdown",
   "id": "af51db5a",
   "metadata": {},
   "source": [
    "# indexing"
   ]
  },
  {
   "cell_type": "code",
   "execution_count": 1,
   "id": "91e3902c",
   "metadata": {},
   "outputs": [
    {
     "data": {
      "text/plain": [
       "'samosa pakora'"
      ]
     },
     "execution_count": 1,
     "metadata": {},
     "output_type": "execute_result"
    }
   ],
   "source": [
    "a=\"samosa pakora\"\n",
    "a"
   ]
  },
  {
   "cell_type": "code",
   "execution_count": 6,
   "id": "e20e134d",
   "metadata": {},
   "outputs": [
    {
     "data": {
      "text/plain": [
       "13"
      ]
     },
     "execution_count": 6,
     "metadata": {},
     "output_type": "execute_result"
    }
   ],
   "source": [
    "# length of indeces\n",
    "len(a)"
   ]
  },
  {
   "cell_type": "code",
   "execution_count": 7,
   "id": "de0ac8c9",
   "metadata": {},
   "outputs": [
    {
     "data": {
      "text/plain": [
       "'a'"
      ]
     },
     "execution_count": 7,
     "metadata": {},
     "output_type": "execute_result"
    }
   ],
   "source": [
    "a[8]"
   ]
  },
  {
   "cell_type": "code",
   "execution_count": 8,
   "id": "9a11765c",
   "metadata": {},
   "outputs": [
    {
     "data": {
      "text/plain": [
       "'p'"
      ]
     },
     "execution_count": 8,
     "metadata": {},
     "output_type": "execute_result"
    }
   ],
   "source": [
    "a[7]"
   ]
  },
  {
   "cell_type": "code",
   "execution_count": 2,
   "id": "cb2c485c",
   "metadata": {},
   "outputs": [
    {
     "data": {
      "text/plain": [
       "'o'"
      ]
     },
     "execution_count": 2,
     "metadata": {},
     "output_type": "execute_result"
    }
   ],
   "source": [
    "a[3]"
   ]
  },
  {
   "cell_type": "code",
   "execution_count": 3,
   "id": "2f8d4a8c",
   "metadata": {},
   "outputs": [
    {
     "data": {
      "text/plain": [
       "'m'"
      ]
     },
     "execution_count": 3,
     "metadata": {},
     "output_type": "execute_result"
    }
   ],
   "source": [
    "a[2]"
   ]
  },
  {
   "cell_type": "code",
   "execution_count": 4,
   "id": "7f03c719",
   "metadata": {},
   "outputs": [
    {
     "data": {
      "text/plain": [
       "'p'"
      ]
     },
     "execution_count": 4,
     "metadata": {},
     "output_type": "execute_result"
    }
   ],
   "source": [
    "a[7]"
   ]
  },
  {
   "cell_type": "code",
   "execution_count": 9,
   "id": "a7855c45",
   "metadata": {},
   "outputs": [
    {
     "data": {
      "text/plain": [
       "'samosa'"
      ]
     },
     "execution_count": 9,
     "metadata": {},
     "output_type": "execute_result"
    }
   ],
   "source": [
    "a[0:6]"
   ]
  },
  {
   "cell_type": "code",
   "execution_count": 11,
   "id": "17cbd9de",
   "metadata": {},
   "outputs": [
    {
     "data": {
      "text/plain": [
       "'samosa'"
      ]
     },
     "execution_count": 11,
     "metadata": {},
     "output_type": "execute_result"
    }
   ],
   "source": [
    "a[0:6]"
   ]
  },
  {
   "cell_type": "code",
   "execution_count": 46,
   "id": "9d38b59f",
   "metadata": {},
   "outputs": [
    {
     "data": {
      "text/plain": [
       "'pakora'"
      ]
     },
     "execution_count": 46,
     "metadata": {},
     "output_type": "execute_result"
    }
   ],
   "source": [
    "a[-6:13]"
   ]
  },
  {
   "cell_type": "markdown",
   "id": "9cc68445",
   "metadata": {},
   "source": [
    "# Strings method"
   ]
  },
  {
   "cell_type": "code",
   "execution_count": 47,
   "id": "a7deb256",
   "metadata": {},
   "outputs": [
    {
     "data": {
      "text/plain": [
       "'qourma'"
      ]
     },
     "execution_count": 47,
     "metadata": {},
     "output_type": "execute_result"
    }
   ],
   "source": [
    "food = \"qourma\"\n",
    "food"
   ]
  },
  {
   "cell_type": "code",
   "execution_count": 48,
   "id": "0639eb3f",
   "metadata": {},
   "outputs": [
    {
     "data": {
      "text/plain": [
       "6"
      ]
     },
     "execution_count": 48,
     "metadata": {},
     "output_type": "execute_result"
    }
   ],
   "source": [
    "len(food)"
   ]
  },
  {
   "cell_type": "code",
   "execution_count": 49,
   "id": "03a543b5",
   "metadata": {},
   "outputs": [
    {
     "data": {
      "text/plain": [
       "'Qourma'"
      ]
     },
     "execution_count": 49,
     "metadata": {},
     "output_type": "execute_result"
    }
   ],
   "source": [
    "# capitalize every elemnet\n",
    "food.capitalize()"
   ]
  },
  {
   "cell_type": "code",
   "execution_count": 50,
   "id": "5be8a430",
   "metadata": {},
   "outputs": [
    {
     "data": {
      "text/plain": [
       "'qourma'"
      ]
     },
     "execution_count": 50,
     "metadata": {},
     "output_type": "execute_result"
    }
   ],
   "source": [
    "\n",
    "food.casefold()"
   ]
  },
  {
   "cell_type": "code",
   "execution_count": 51,
   "id": "1be86f05",
   "metadata": {},
   "outputs": [
    {
     "data": {
      "text/plain": [
       "'QOURMA'"
      ]
     },
     "execution_count": 51,
     "metadata": {},
     "output_type": "execute_result"
    }
   ],
   "source": [
    "# upper case letter\n",
    "food.upper()"
   ]
  },
  {
   "cell_type": "code",
   "execution_count": 52,
   "id": "1133da4a",
   "metadata": {},
   "outputs": [
    {
     "data": {
      "text/plain": [
       "'qourma'"
      ]
     },
     "execution_count": 52,
     "metadata": {},
     "output_type": "execute_result"
    }
   ],
   "source": [
    "# lower case letter\n",
    "food.lower()"
   ]
  },
  {
   "cell_type": "code",
   "execution_count": 53,
   "id": "b364eb08",
   "metadata": {},
   "outputs": [
    {
     "data": {
      "text/plain": [
       "'shourma'"
      ]
     },
     "execution_count": 53,
     "metadata": {},
     "output_type": "execute_result"
    }
   ],
   "source": [
    "# replace \n",
    "food.replace(\"q\", \"sh\")"
   ]
  },
  {
   "cell_type": "code",
   "execution_count": 55,
   "id": "4683a361",
   "metadata": {},
   "outputs": [
    {
     "data": {
      "text/plain": [
       "'arslan_shani with arslan_Javed'"
      ]
     },
     "execution_count": 55,
     "metadata": {},
     "output_type": "execute_result"
    }
   ],
   "source": [
    "# counting a specific alphbet in a string\n",
    "name=\"arslan_shani with arslan_Javed\"\n",
    "name"
   ]
  },
  {
   "cell_type": "code",
   "execution_count": 58,
   "id": "dc9f16b7",
   "metadata": {},
   "outputs": [
    {
     "data": {
      "text/plain": [
       "2"
      ]
     },
     "execution_count": 58,
     "metadata": {},
     "output_type": "execute_result"
    }
   ],
   "source": [
    "name.count(\"ar\")"
   ]
  },
  {
   "cell_type": "markdown",
   "id": "1454e3d5",
   "metadata": {},
   "source": [
    "# Founding an index number in a string"
   ]
  },
  {
   "cell_type": "code",
   "execution_count": 60,
   "id": "b345372f",
   "metadata": {},
   "outputs": [
    {
     "data": {
      "text/plain": [
       "'arslan_shani with arslan_Javed'"
      ]
     },
     "execution_count": 60,
     "metadata": {},
     "output_type": "execute_result"
    }
   ],
   "source": [
    "name=\"arslan_shani with arslan_Javed\"\n",
    "name"
   ]
  },
  {
   "cell_type": "code",
   "execution_count": 64,
   "id": "919221ac",
   "metadata": {},
   "outputs": [
    {
     "data": {
      "text/plain": [
       "25"
      ]
     },
     "execution_count": 64,
     "metadata": {},
     "output_type": "execute_result"
    }
   ],
   "source": [
    "name.find(\"J\")"
   ]
  },
  {
   "cell_type": "markdown",
   "id": "8418e5e1",
   "metadata": {},
   "source": [
    "# How to split a string"
   ]
  },
  {
   "cell_type": "code",
   "execution_count": 66,
   "id": "5b088ad9",
   "metadata": {},
   "outputs": [
    {
     "data": {
      "text/plain": [
       "'i love samosa, pakora, raita, biryani and karahi'"
      ]
     },
     "execution_count": 66,
     "metadata": {},
     "output_type": "execute_result"
    }
   ],
   "source": [
    "food=(\"i love samosa, pakora, raita, biryani and karahi\")\n",
    "food"
   ]
  },
  {
   "cell_type": "code",
   "execution_count": 67,
   "id": "61f484d8",
   "metadata": {},
   "outputs": [
    {
     "data": {
      "text/plain": [
       "['i love samosa', ' pakora', ' raita', ' biryani and karahi']"
      ]
     },
     "execution_count": 67,
     "metadata": {},
     "output_type": "execute_result"
    }
   ],
   "source": [
    "food.split(\",\")"
   ]
  },
  {
   "cell_type": "markdown",
   "id": "23e59795",
   "metadata": {},
   "source": [
    "\n",
    "# Basic data structures in python"
   ]
  },
  {
   "cell_type": "markdown",
   "id": "18f732a7",
   "metadata": {},
   "source": [
    "- Tuple\n",
    "- dictionaries\n",
    "- list \n",
    "- set"
   ]
  },
  {
   "cell_type": "markdown",
   "id": "b10533c2",
   "metadata": {},
   "source": [
    "## 1 Tuple\n",
    "- ordered collection of elements\n",
    "- enclosed in () round braces\n",
    "- differnt kind of elementscan be stored\n",
    "- once elements are stored you cannot change them (unmutateable)"
   ]
  },
  {
   "cell_type": "code",
   "execution_count": 69,
   "id": "d3c73483",
   "metadata": {},
   "outputs": [
    {
     "data": {
      "text/plain": [
       "(1, 'python', True, 2.5)"
      ]
     },
     "execution_count": 69,
     "metadata": {},
     "output_type": "execute_result"
    }
   ],
   "source": [
    "tup1=(1,\"python\", True, 2.5)\n",
    "tup1"
   ]
  },
  {
   "cell_type": "code",
   "execution_count": 70,
   "id": "0e21c1a1",
   "metadata": {},
   "outputs": [
    {
     "data": {
      "text/plain": [
       "tuple"
      ]
     },
     "execution_count": 70,
     "metadata": {},
     "output_type": "execute_result"
    }
   ],
   "source": [
    "# type of tuple\n",
    "type(tup1)"
   ]
  },
  {
   "cell_type": "markdown",
   "id": "217e3950",
   "metadata": {},
   "source": [
    "### Indexing in tuple"
   ]
  },
  {
   "cell_type": "code",
   "execution_count": 75,
   "id": "a983b0cf",
   "metadata": {},
   "outputs": [
    {
     "data": {
      "text/plain": [
       "True"
      ]
     },
     "execution_count": 75,
     "metadata": {},
     "output_type": "execute_result"
    }
   ],
   "source": [
    "tup1[2]"
   ]
  },
  {
   "cell_type": "code",
   "execution_count": 76,
   "id": "e19f0884",
   "metadata": {},
   "outputs": [
    {
     "data": {
      "text/plain": [
       "(True, 2.5)"
      ]
     },
     "execution_count": 76,
     "metadata": {},
     "output_type": "execute_result"
    }
   ],
   "source": [
    "tup1[2:4]"
   ]
  },
  {
   "cell_type": "code",
   "execution_count": 77,
   "id": "b234c3cc",
   "metadata": {},
   "outputs": [
    {
     "data": {
      "text/plain": [
       "4"
      ]
     },
     "execution_count": 77,
     "metadata": {},
     "output_type": "execute_result"
    }
   ],
   "source": [
    "# count of elements in tuple\n",
    "len(tup1)"
   ]
  },
  {
   "cell_type": "code",
   "execution_count": 79,
   "id": "5a753bf9",
   "metadata": {},
   "outputs": [
    {
     "data": {
      "text/plain": [
       "(False, 2.6, 'Arslan_Ahmed', 9)"
      ]
     },
     "execution_count": 79,
     "metadata": {},
     "output_type": "execute_result"
    }
   ],
   "source": [
    "tup2=(False, 2.6, \"Arslan_Ahmed\", 9)\n",
    "tup2"
   ]
  },
  {
   "cell_type": "code",
   "execution_count": 80,
   "id": "23a1bf47",
   "metadata": {},
   "outputs": [
    {
     "data": {
      "text/plain": [
       "(1, 'python', True, 2.5, False, 2.6, 'Arslan_Ahmed', 9)"
      ]
     },
     "execution_count": 80,
     "metadata": {},
     "output_type": "execute_result"
    }
   ],
   "source": [
    "# concatenate(to add two tuple or more than 2)\n",
    "tup1+tup2"
   ]
  },
  {
   "cell_type": "code",
   "execution_count": 81,
   "id": "eeb540e5",
   "metadata": {},
   "outputs": [
    {
     "data": {
      "text/plain": [
       "(1, 'python', True, 2.5, 1, 'python', True, 2.5, False, 2.6, 'Arslan_Ahmed', 9)"
      ]
     },
     "execution_count": 81,
     "metadata": {},
     "output_type": "execute_result"
    }
   ],
   "source": [
    "concatenate plus repeat\n",
    "tup1*2 + tup2"
   ]
  },
  {
   "cell_type": "code",
   "execution_count": 82,
   "id": "cca0c72d",
   "metadata": {},
   "outputs": [
    {
     "data": {
      "text/plain": [
       "(20, 60, 14, 36, 25, 147, 50)"
      ]
     },
     "execution_count": 82,
     "metadata": {},
     "output_type": "execute_result"
    }
   ],
   "source": [
    "tup3= (20,60,14,36,25,147,50)\n",
    "tup3"
   ]
  },
  {
   "cell_type": "code",
   "execution_count": 83,
   "id": "90be05b7",
   "metadata": {},
   "outputs": [
    {
     "data": {
      "text/plain": [
       "14"
      ]
     },
     "execution_count": 83,
     "metadata": {},
     "output_type": "execute_result"
    }
   ],
   "source": [
    "# minimum\n",
    "min(tup3)"
   ]
  },
  {
   "cell_type": "code",
   "execution_count": 84,
   "id": "a9762c2f",
   "metadata": {},
   "outputs": [
    {
     "data": {
      "text/plain": [
       "147"
      ]
     },
     "execution_count": 84,
     "metadata": {},
     "output_type": "execute_result"
    }
   ],
   "source": [
    "# maximum\n",
    "max(tup3)"
   ]
  },
  {
   "cell_type": "code",
   "execution_count": 86,
   "id": "50f6183c",
   "metadata": {},
   "outputs": [
    {
     "data": {
      "text/plain": [
       "(20, 60, 14, 36, 25, 147, 50, 20, 60, 14, 36, 25, 147, 50)"
      ]
     },
     "execution_count": 86,
     "metadata": {},
     "output_type": "execute_result"
    }
   ],
   "source": [
    "tup3*2"
   ]
  },
  {
   "cell_type": "code",
   "execution_count": null,
   "id": "7fb68e78",
   "metadata": {},
   "outputs": [],
   "source": []
  },
  {
   "cell_type": "markdown",
   "id": "ecc74183",
   "metadata": {},
   "source": [
    "---"
   ]
  },
  {
   "cell_type": "markdown",
   "id": "7586be0f",
   "metadata": {},
   "source": [
    "### Lists\n",
    "- ordered collection of elements\n",
    "- enclosed in these [] saure braces\n",
    "- mutateable(you can change the values)"
   ]
  },
  {
   "cell_type": "code",
   "execution_count": 87,
   "id": "9b43aebb",
   "metadata": {},
   "outputs": [
    {
     "data": {
      "text/plain": [
       "[False, 2.6, 'Arslan_Ahmed', 9]"
      ]
     },
     "execution_count": 87,
     "metadata": {},
     "output_type": "execute_result"
    }
   ],
   "source": [
    "list1=[False, 2.6, \"Arslan_Ahmed\", 9]\n",
    "list1"
   ]
  },
  {
   "cell_type": "code",
   "execution_count": 89,
   "id": "f5228b62",
   "metadata": {},
   "outputs": [
    {
     "data": {
      "text/plain": [
       "list"
      ]
     },
     "execution_count": 89,
     "metadata": {},
     "output_type": "execute_result"
    }
   ],
   "source": [
    "type(list1)"
   ]
  },
  {
   "cell_type": "code",
   "execution_count": 90,
   "id": "8a607d09",
   "metadata": {},
   "outputs": [
    {
     "data": {
      "text/plain": [
       "4"
      ]
     },
     "execution_count": 90,
     "metadata": {},
     "output_type": "execute_result"
    }
   ],
   "source": [
    "len(list1)"
   ]
  },
  {
   "cell_type": "code",
   "execution_count": 92,
   "id": "04110484",
   "metadata": {},
   "outputs": [
    {
     "data": {
      "text/plain": [
       "'Arslan_Ahmed'"
      ]
     },
     "execution_count": 92,
     "metadata": {},
     "output_type": "execute_result"
    }
   ],
   "source": [
    "list1[2]"
   ]
  },
  {
   "cell_type": "code",
   "execution_count": 93,
   "id": "f8545ac8",
   "metadata": {},
   "outputs": [
    {
     "data": {
      "text/plain": [
       "[6, 5, 'Arslan', 'python', 470, 25.3, False]"
      ]
     },
     "execution_count": 93,
     "metadata": {},
     "output_type": "execute_result"
    }
   ],
   "source": [
    "list2=[6,5, \"Arslan\", \"python\", 470, 25.3, False]\n",
    "list2"
   ]
  },
  {
   "cell_type": "code",
   "execution_count": 94,
   "id": "9ca6f6f6",
   "metadata": {},
   "outputs": [
    {
     "data": {
      "text/plain": [
       "[False, 2.6, 'Arslan_Ahmed', 9, 6, 5, 'Arslan', 'python', 470, 25.3, False]"
      ]
     },
     "execution_count": 94,
     "metadata": {},
     "output_type": "execute_result"
    }
   ],
   "source": [
    "# concatenate \n",
    "list1 + list2"
   ]
  },
  {
   "cell_type": "code",
   "execution_count": 95,
   "id": "999e69be",
   "metadata": {
    "scrolled": true
   },
   "outputs": [
    {
     "data": {
      "text/plain": [
       "[False,\n",
       " 2.6,\n",
       " 'Arslan_Ahmed',\n",
       " 9,\n",
       " False,\n",
       " 2.6,\n",
       " 'Arslan_Ahmed',\n",
       " 9,\n",
       " 6,\n",
       " 5,\n",
       " 'Arslan',\n",
       " 'python',\n",
       " 470,\n",
       " 25.3,\n",
       " False]"
      ]
     },
     "execution_count": 95,
     "metadata": {},
     "output_type": "execute_result"
    }
   ],
   "source": [
    "list1*2 + list2"
   ]
  },
  {
   "cell_type": "code",
   "execution_count": 112,
   "id": "8dfd9057",
   "metadata": {},
   "outputs": [
    {
     "data": {
      "text/plain": [
       "[]"
      ]
     },
     "execution_count": 112,
     "metadata": {},
     "output_type": "execute_result"
    }
   ],
   "source": [
    "list1"
   ]
  },
  {
   "cell_type": "code",
   "execution_count": 99,
   "id": "d36bc66a",
   "metadata": {},
   "outputs": [
    {
     "data": {
      "text/plain": [
       "[9, 'Arslan_Ahmed', 2.6, False]"
      ]
     },
     "execution_count": 99,
     "metadata": {},
     "output_type": "execute_result"
    }
   ],
   "source": [
    "list1.reverse()\n",
    "list1"
   ]
  },
  {
   "cell_type": "code",
   "execution_count": 101,
   "id": "f6683109",
   "metadata": {
    "scrolled": true
   },
   "outputs": [
    {
     "data": {
      "text/plain": [
       "[9,\n",
       " 'Arslan_Ahmed',\n",
       " 2.6,\n",
       " False,\n",
       " 'codanics youtube channel',\n",
       " 'codanics youtube channel']"
      ]
     },
     "execution_count": 101,
     "metadata": {},
     "output_type": "execute_result"
    }
   ],
   "source": [
    "list1.append(\"codanics youtube channel\")\n",
    "list1"
   ]
  },
  {
   "cell_type": "code",
   "execution_count": 103,
   "id": "c511a0cc",
   "metadata": {},
   "outputs": [
    {
     "data": {
      "text/plain": [
       "[]"
      ]
     },
     "execution_count": 103,
     "metadata": {},
     "output_type": "execute_result"
    }
   ],
   "source": [
    "# All entries on list1 are clear\n",
    "list1.clear()\n",
    "list1"
   ]
  },
  {
   "cell_type": "code",
   "execution_count": 114,
   "id": "0107dfdf",
   "metadata": {},
   "outputs": [
    {
     "data": {
      "text/plain": [
       "[False, 2.6, 'Arslan_Ahmed', 9]"
      ]
     },
     "execution_count": 114,
     "metadata": {},
     "output_type": "execute_result"
    }
   ],
   "source": [
    "list1=[False, 2.6, \"Arslan_Ahmed\", 9]\n",
    "list1"
   ]
  },
  {
   "cell_type": "code",
   "execution_count": 116,
   "id": "c5ab585c",
   "metadata": {},
   "outputs": [
    {
     "data": {
      "text/plain": [
       "[False, 2.6, 'Arslan_Ahmed', 9]"
      ]
     },
     "execution_count": 116,
     "metadata": {},
     "output_type": "execute_result"
    }
   ],
   "source": [
    "# list1.copy.  copies the same old list\n",
    "list1.copy()\n",
    "list1"
   ]
  },
  {
   "cell_type": "code",
   "execution_count": 117,
   "id": "1dd4b4fc",
   "metadata": {},
   "outputs": [
    {
     "data": {
      "text/plain": [
       "[False, 2.6, 'Arslan_Ahmed', 9]"
      ]
     },
     "execution_count": 117,
     "metadata": {},
     "output_type": "execute_result"
    }
   ],
   "source": [
    "list1=[False, 2.6, \"Arslan_Ahmed\", 9]\n",
    "list1"
   ]
  },
  {
   "cell_type": "code",
   "execution_count": 125,
   "id": "9da4db24",
   "metadata": {},
   "outputs": [
    {
     "data": {
      "text/plain": [
       "['chrome',\n",
       " 'chrome',\n",
       " 'chrome',\n",
       " 'chrome',\n",
       " 'chrome',\n",
       " False,\n",
       " 2.6,\n",
       " 'Arslan_Ahmed',\n",
       " 9]"
      ]
     },
     "execution_count": 125,
     "metadata": {},
     "output_type": "execute_result"
    }
   ],
   "source": [
    "# insert mean to add an element\n",
    "list1.insert(False, \"chrome\")\n",
    "list1"
   ]
  },
  {
   "cell_type": "code",
   "execution_count": 131,
   "id": "c5f1cdc0",
   "metadata": {},
   "outputs": [
    {
     "data": {
      "text/plain": [
       "[False, 2.6, 'Arslan_Ahmed', 9]"
      ]
     },
     "execution_count": 131,
     "metadata": {},
     "output_type": "execute_result"
    }
   ],
   "source": [
    "list1=[False, 2.6, \"Arslan_Ahmed\", 9]\n",
    "list1"
   ]
  },
  {
   "cell_type": "code",
   "execution_count": 133,
   "id": "3224a1b6",
   "metadata": {},
   "outputs": [
    {
     "data": {
      "text/plain": [
       "[False, 2.6, 9]"
      ]
     },
     "execution_count": 133,
     "metadata": {},
     "output_type": "execute_result"
    }
   ],
   "source": [
    "# to remove an elements\n",
    "list1.remove(\"Arslan_Ahmed\")\n",
    "list1"
   ]
  },
  {
   "cell_type": "code",
   "execution_count": 134,
   "id": "308a18c7",
   "metadata": {},
   "outputs": [
    {
     "data": {
      "text/plain": [
       "[False, 2.6, 'Arslan_Ahmed', 9]"
      ]
     },
     "execution_count": 134,
     "metadata": {},
     "output_type": "execute_result"
    }
   ],
   "source": [
    "list1=[False, 2.6, \"Arslan_Ahmed\", 9]\n",
    "list1"
   ]
  },
  {
   "cell_type": "code",
   "execution_count": 135,
   "id": "c9c5092b",
   "metadata": {},
   "outputs": [
    {
     "data": {
      "text/plain": [
       "[False, 'Arslan_Ahmed', 9]"
      ]
     },
     "execution_count": 135,
     "metadata": {},
     "output_type": "execute_result"
    }
   ],
   "source": [
    "# pop element from list\n",
    "list1.pop(1)\n",
    "list1"
   ]
  },
  {
   "cell_type": "code",
   "execution_count": 139,
   "id": "078bb1db",
   "metadata": {},
   "outputs": [
    {
     "data": {
      "text/plain": [
       "[1, 2, 110, 2, 30, 110, 50]"
      ]
     },
     "execution_count": 139,
     "metadata": {},
     "output_type": "execute_result"
    }
   ],
   "source": [
    "list2=[1,2,110,2,30,110,50]\n",
    "list2"
   ]
  },
  {
   "cell_type": "code",
   "execution_count": 140,
   "id": "fa87d4a1",
   "metadata": {},
   "outputs": [
    {
     "data": {
      "text/plain": [
       "7"
      ]
     },
     "execution_count": 140,
     "metadata": {},
     "output_type": "execute_result"
    }
   ],
   "source": [
    "len(list2)"
   ]
  },
  {
   "cell_type": "code",
   "execution_count": 142,
   "id": "7f067d0f",
   "metadata": {},
   "outputs": [
    {
     "data": {
      "text/plain": [
       "[1, 2, 2, 30, 50, 110, 110]"
      ]
     },
     "execution_count": 142,
     "metadata": {},
     "output_type": "execute_result"
    }
   ],
   "source": [
    "list2.sort()\n",
    "list2"
   ]
  },
  {
   "cell_type": "code",
   "execution_count": 144,
   "id": "7782ff60",
   "metadata": {},
   "outputs": [
    {
     "data": {
      "text/plain": [
       "[1, 2, 2, 30, 50, 110, 110]"
      ]
     },
     "execution_count": 144,
     "metadata": {},
     "output_type": "execute_result"
    }
   ],
   "source": [
    "list2.count(110)\n",
    "list2"
   ]
  },
  {
   "cell_type": "markdown",
   "id": "3a57c9f9",
   "metadata": {},
   "source": [
    "_____"
   ]
  },
  {
   "cell_type": "markdown",
   "id": "39b60802",
   "metadata": {},
   "source": [
    "### Dictionaries\n",
    "- an unordered collection of elements\n",
    "- key and values\n",
    "- curly braces{\n",
    "- mutateable/ change the values"
   ]
  },
  {
   "cell_type": "code",
   "execution_count": 152,
   "id": "68aba846",
   "metadata": {},
   "outputs": [
    {
     "data": {
      "text/plain": [
       "{'samosa': 20, 'pakora': 100, 'raita': 20, 'salad': 50, 'chicken rolls': 150}"
      ]
     },
     "execution_count": 152,
     "metadata": {},
     "output_type": "execute_result"
    }
   ],
   "source": [
    "# food and thier prices\n",
    "food1 = {\"samosa\":20, \"pakora\":100, \"raita\":20, \"salad\":50, \"chicken rolls\": 150}\n",
    "food1"
   ]
  },
  {
   "cell_type": "code",
   "execution_count": 153,
   "id": "79f3438b",
   "metadata": {},
   "outputs": [
    {
     "data": {
      "text/plain": [
       "dict"
      ]
     },
     "execution_count": 153,
     "metadata": {},
     "output_type": "execute_result"
    }
   ],
   "source": [
    "type(food1)"
   ]
  },
  {
   "cell_type": "code",
   "execution_count": 154,
   "id": "75ed4823",
   "metadata": {},
   "outputs": [
    {
     "data": {
      "text/plain": [
       "5"
      ]
     },
     "execution_count": 154,
     "metadata": {},
     "output_type": "execute_result"
    }
   ],
   "source": [
    "len(food1)"
   ]
  },
  {
   "cell_type": "code",
   "execution_count": 161,
   "id": "b03dcb19",
   "metadata": {},
   "outputs": [
    {
     "data": {
      "text/plain": [
       "dict_keys(['samosa', 'pakora', 'raita', 'salad', 'chicken rolls'])"
      ]
     },
     "execution_count": 161,
     "metadata": {},
     "output_type": "execute_result"
    }
   ],
   "source": [
    "# extract file\n",
    "keys1 = food1.keys()\n",
    "keys1"
   ]
  },
  {
   "cell_type": "code",
   "execution_count": 162,
   "id": "96f0dd89",
   "metadata": {},
   "outputs": [
    {
     "data": {
      "text/plain": [
       "dict_values([20, 100, 20, 50, 150])"
      ]
     },
     "execution_count": 162,
     "metadata": {},
     "output_type": "execute_result"
    }
   ],
   "source": [
    "values= food1.values()\n",
    "values"
   ]
  },
  {
   "cell_type": "code",
   "execution_count": 164,
   "id": "e1f1c048",
   "metadata": {},
   "outputs": [
    {
     "data": {
      "text/plain": [
       "{'samosa': 20,\n",
       " 'pakora': 100,\n",
       " 'raita': 20,\n",
       " 'salad': 50,\n",
       " 'chicken rolls': 150,\n",
       " 'tikki': 10}"
      ]
     },
     "execution_count": 164,
     "metadata": {},
     "output_type": "execute_result"
    }
   ],
   "source": [
    "#updating the elements\n",
    "food1[\"tikki\"]=10\n",
    "food1"
   ]
  },
  {
   "cell_type": "code",
   "execution_count": 166,
   "id": "41ca6a96",
   "metadata": {},
   "outputs": [
    {
     "data": {
      "text/plain": [
       "{'samosa': 20,\n",
       " 'pakora': 100,\n",
       " 'raita': 20,\n",
       " 'salad': 50,\n",
       " 'chicken rolls': 150,\n",
       " 'tikki': 15}"
      ]
     },
     "execution_count": 166,
     "metadata": {},
     "output_type": "execute_result"
    }
   ],
   "source": [
    "#updating the values\n",
    "food1[\"tikki\"]=15\n",
    "food1"
   ]
  },
  {
   "cell_type": "code",
   "execution_count": 167,
   "id": "f7a78378",
   "metadata": {},
   "outputs": [
    {
     "data": {
      "text/plain": [
       "{'dates': 50, 'chcolate': 100, 'sawayyan': 1000}"
      ]
     },
     "execution_count": 167,
     "metadata": {},
     "output_type": "execute_result"
    }
   ],
   "source": [
    "food2={\"dates\":50, \"chcolate\":100, \"sawayyan\":1000}\n",
    "food2"
   ]
  },
  {
   "cell_type": "code",
   "execution_count": 169,
   "id": "9491f46b",
   "metadata": {},
   "outputs": [
    {
     "data": {
      "text/plain": [
       "{'samosa': 20,\n",
       " 'pakora': 100,\n",
       " 'raita': 20,\n",
       " 'salad': 50,\n",
       " 'chicken rolls': 150,\n",
       " 'tikki': 15,\n",
       " 'dates': 50,\n",
       " 'chcolate': 100,\n",
       " 'sawayyan': 1000}"
      ]
     },
     "execution_count": 169,
     "metadata": {},
     "output_type": "execute_result"
    }
   ],
   "source": [
    "# concatenate\n",
    "food1.update(food2)\n",
    "food1"
   ]
  },
  {
   "cell_type": "code",
   "execution_count": 170,
   "id": "6434256b",
   "metadata": {},
   "outputs": [
    {
     "data": {
      "text/plain": [
       "dict_values([50, 100, 1000])"
      ]
     },
     "execution_count": 170,
     "metadata": {},
     "output_type": "execute_result"
    }
   ],
   "source": [
    "values1=food2.values()\n",
    "values1"
   ]
  },
  {
   "cell_type": "code",
   "execution_count": 182,
   "id": "5f91b1b8",
   "metadata": {},
   "outputs": [
    {
     "data": {
      "text/plain": [
       "{}"
      ]
     },
     "execution_count": 182,
     "metadata": {},
     "output_type": "execute_result"
    }
   ],
   "source": [
    "# clear all elements\n",
    "food1.clear()\n",
    "food1"
   ]
  },
  {
   "cell_type": "code",
   "execution_count": 183,
   "id": "de8dfd59",
   "metadata": {},
   "outputs": [
    {
     "data": {
      "text/plain": [
       "{'samosa': 20, 'pakora': 100, 'raita': 20, 'salad': 50, 'chicken rolls': 150}"
      ]
     },
     "execution_count": 183,
     "metadata": {},
     "output_type": "execute_result"
    }
   ],
   "source": [
    "food1 = {\"samosa\":20, \"pakora\":100, \"raita\":20, \"salad\":50, \"chicken rolls\": 150}\n",
    "food1"
   ]
  },
  {
   "cell_type": "code",
   "execution_count": 195,
   "id": "ca7f0c85",
   "metadata": {},
   "outputs": [
    {
     "data": {
      "text/plain": [
       "{'samosa': 20, 'pakora': 100, 'raita': 20, 'salad': 50, 'chicken rolls': 150}"
      ]
     },
     "execution_count": 195,
     "metadata": {},
     "output_type": "execute_result"
    }
   ],
   "source": [
    "food1.items()\n",
    "food1"
   ]
  },
  {
   "cell_type": "code",
   "execution_count": null,
   "id": "9ad4a0e4",
   "metadata": {},
   "outputs": [],
   "source": []
  },
  {
   "cell_type": "markdown",
   "id": "9214a31d",
   "metadata": {},
   "source": [
    "----"
   ]
  },
  {
   "cell_type": "markdown",
   "id": "6745163d",
   "metadata": {},
   "source": [
    "##  Sets\n",
    "- unordered collection of elements\n",
    "- curly braces {}\n",
    "- no duplicates allowed"
   ]
  },
  {
   "cell_type": "code",
   "execution_count": 181,
   "id": "42fdbde2",
   "metadata": {},
   "outputs": [
    {
     "data": {
      "text/plain": [
       "{1, 2.2, 5.6, 'Arslan', 'Javed'}"
      ]
     },
     "execution_count": 181,
     "metadata": {},
     "output_type": "execute_result"
    }
   ],
   "source": [
    "s1 = {1, 2.2, 5.6, \"Arslan\", \"Javed\", True}\n",
    "s1"
   ]
  },
  {
   "cell_type": "code",
   "execution_count": 196,
   "id": "efd873ea",
   "metadata": {},
   "outputs": [
    {
     "data": {
      "text/plain": [
       "{1, 2.2, 5.6, 'Arslan', 'Javed'}"
      ]
     },
     "execution_count": 196,
     "metadata": {},
     "output_type": "execute_result"
    }
   ],
   "source": [
    "s1.difference()\n",
    "s1"
   ]
  },
  {
   "cell_type": "code",
   "execution_count": null,
   "id": "7ef6dc39",
   "metadata": {},
   "outputs": [],
   "source": []
  },
  {
   "cell_type": "code",
   "execution_count": null,
   "id": "b45c9c2b",
   "metadata": {},
   "outputs": [],
   "source": []
  },
  {
   "cell_type": "code",
   "execution_count": null,
   "id": "92d9c58a",
   "metadata": {},
   "outputs": [],
   "source": []
  },
  {
   "cell_type": "code",
   "execution_count": null,
   "id": "e254069c",
   "metadata": {},
   "outputs": [],
   "source": []
  },
  {
   "cell_type": "code",
   "execution_count": null,
   "id": "b6ff1ede",
   "metadata": {},
   "outputs": [],
   "source": []
  },
  {
   "cell_type": "code",
   "execution_count": null,
   "id": "30a713a4",
   "metadata": {},
   "outputs": [],
   "source": []
  },
  {
   "cell_type": "code",
   "execution_count": null,
   "id": "64fbeb24",
   "metadata": {},
   "outputs": [],
   "source": []
  }
 ],
 "metadata": {
  "kernelspec": {
   "display_name": "Python 3 (ipykernel)",
   "language": "python",
   "name": "python3"
  },
  "language_info": {
   "codemirror_mode": {
    "name": "ipython",
    "version": 3
   },
   "file_extension": ".py",
   "mimetype": "text/x-python",
   "name": "python",
   "nbconvert_exporter": "python",
   "pygments_lexer": "ipython3",
   "version": "3.9.7"
  }
 },
 "nbformat": 4,
 "nbformat_minor": 5
}
