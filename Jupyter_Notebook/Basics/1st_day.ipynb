{
 "cells": [
  {
   "cell_type": "markdown",
   "id": "a2e70e8f",
   "metadata": {},
   "source": [
    "# PYTHON KA CHILLA \n",
    "## HOW TO USE JUPYTER NOTEBOK\n",
    "### BASICS OF PYTHON\n",
    "**01- PROGRAM**"
   ]
  },
  {
   "cell_type": "code",
   "execution_count": 3,
   "id": "6a511613",
   "metadata": {},
   "outputs": [
    {
     "name": "stdout",
     "output_type": "stream",
     "text": [
      "7\n",
      "hello world\n",
      "we are learning python with Aammar\n"
     ]
    }
   ],
   "source": [
    "print(2+5)\n",
    "print(\"hello world\")\n",
    "print(\"we are learning python with Aammar\")"
   ]
  },
  {
   "cell_type": "markdown",
   "id": "eeb14223",
   "metadata": {},
   "source": [
    "**02- OPPERATORS**"
   ]
  },
  {
   "cell_type": "code",
   "execution_count": 4,
   "id": "ac72df99",
   "metadata": {},
   "outputs": [
    {
     "name": "stdout",
     "output_type": "stream",
     "text": [
      "2\n",
      "5\n",
      "16\n",
      "1\n",
      "8\n",
      "-17.0\n"
     ]
    }
   ],
   "source": [
    "print(10-8)\n",
    "print(2+3)\n",
    "print(2*8)\n",
    "print(13%2)\n",
    "print(2**3)\n",
    "\n",
    "print(2**4/4+5-13*2)\n",
    "\n"
   ]
  },
  {
   "cell_type": "markdown",
   "id": "9b8580ba",
   "metadata": {},
   "source": [
    "*PEMDAS*\n",
    "*Prenthsis exponents multiplication divide Addition Sustraction\n",
    "left to right sequence M & D, A & S*"
   ]
  },
  {
   "cell_type": "markdown",
   "id": "f2777546",
   "metadata": {},
   "source": [
    "**03- STRINGS**"
   ]
  },
  {
   "cell_type": "code",
   "execution_count": 5,
   "id": "83f70e7d",
   "metadata": {
    "scrolled": true
   },
   "outputs": [
    {
     "name": "stdout",
     "output_type": "stream",
     "text": [
      "Hello World\n",
      "we are learning python with Ammar\n",
      "test for double quotes\n",
      "test for single quotes\n",
      "test for tripple quotes\n",
      "what's up\n"
     ]
    }
   ],
   "source": [
    "print('Hello World')\n",
    "print('we are learning python with Ammar')\n",
    "print(\"test for double quotes\")\n",
    "print('test for single quotes')\n",
    "print('''test for tripple quotes''')\n",
    "\n",
    "print(\"what's up\")"
   ]
  },
  {
   "cell_type": "markdown",
   "id": "112416b1",
   "metadata": {},
   "source": [
    "**04- COMMENTS**"
   ]
  },
  {
   "cell_type": "code",
   "execution_count": 7,
   "id": "2b48c1bb",
   "metadata": {},
   "outputs": [
    {
     "name": "stdout",
     "output_type": "stream",
     "text": [
      "how are you\n",
      "we are learning python with Aammar\n",
      "6\n"
     ]
    }
   ],
   "source": [
    "# print('how are you')\n",
    "# print('we are learning python with Aammar')\n",
    "# print(2+4)"
   ]
  },
  {
   "cell_type": "markdown",
   "id": "6b185ac7",
   "metadata": {},
   "source": [
    "**05- VARIABLES**"
   ]
  },
  {
   "cell_type": "code",
   "execution_count": 8,
   "id": "daad136e",
   "metadata": {},
   "outputs": [
    {
     "name": "stdout",
     "output_type": "stream",
     "text": [
      "5\n",
      "we are laerning Python with Aammar\n",
      "20\n",
      "<class 'int'>\n",
      "<class 'str'>\n",
      "Mangoes\n",
      "<class 'str'>\n"
     ]
    }
   ],
   "source": [
    "#Varibale: Objects containing Specific Values\n",
    "x = 5  # numeric or integer variable\n",
    "print(x)\n",
    "y = \"we are laerning Python with Aammar\" # string variable\n",
    "print(y)\n",
    "\n",
    "x= x+15  # or x=20\n",
    "print(x)\n",
    "\n",
    "# Type or class of variables\n",
    "type(x)\n",
    "print(type(x))\n",
    "print(type(y))\n",
    "\n",
    "# print, type, Class\n",
    "\n",
    "#Rules to assign variables\n",
    "# 1- variable should contain letters, numbers or underscoors\n",
    "# 2- Do not start with numbers\n",
    "# 3- Spaces are not allowed\n",
    "# 4- Do not use keyword used in functions (break, mean, median, test etc...)\n",
    "# 5- Short and descriptive\n",
    "# 6- case senstivity(lowercase upper case use lower case)\n",
    "\n",
    "fruit_baskit= 8\n",
    "fruit_baskit= \"Mangoes\"\n",
    "print(fruit_baskit)\n",
    "print(type(fruit_baskit))"
   ]
  },
  {
   "cell_type": "markdown",
   "id": "3d181413",
   "metadata": {},
   "source": [
    "**06- INPUT VARIABLES**"
   ]
  },
  {
   "cell_type": "code",
   "execution_count": 9,
   "id": "5012b4b5",
   "metadata": {},
   "outputs": [
    {
     "name": "stdout",
     "output_type": "stream",
     "text": [
      "Mangoe\n",
      "which is your favourite fruit? MANGOE\n",
      "MANGOE\n",
      "what is your name? ARSLAN\n",
      "Heelo ARSLAN\n",
      "what is your name? ARSLAN\n",
      "hello! ARSLAN\n",
      "what is your name? ARSLAN\n",
      "how old are you? 18\n",
      "Hello! ARSLAN ,you are stil young\n"
     ]
    }
   ],
   "source": [
    "fruit_baskit= \"Mangoe\"\n",
    "print(fruit_baskit)\n",
    "\n",
    "#input faunction\n",
    "fruit_baskit= input(\"which is your favourite fruit? \")\n",
    "print(fruit_baskit)\n",
    "\n",
    "#input function of second stage\n",
    "name=input(\"what is your name? \")\n",
    "greetings=\"Heelo\"\n",
    "print(greetings, name)\n",
    "\n",
    "# another way of stage 2 pf imput function\n",
    "name=input(\"what is your name? \")\n",
    "print(\"hello!\", name)\n",
    "\n",
    "# 3rd stage of input function\n",
    "name= input(\"what is your name? \")\n",
    "age= input('how old are you? ')\n",
    "greetings=\"Hello!\"\n",
    "print(greetings, name, \",you are stil young\")"
   ]
  },
  {
   "cell_type": "markdown",
   "id": "3bb1eef4",
   "metadata": {},
   "source": [
    "**07- CONDITIONAL LOGICS**"
   ]
  },
  {
   "cell_type": "code",
   "execution_count": 10,
   "id": "e6347b85",
   "metadata": {},
   "outputs": [
    {
     "name": "stdout",
     "output_type": "stream",
     "text": [
      "True\n",
      "False\n",
      "False\n",
      "True\n",
      "False\n",
      "hello world\n",
      "False\n",
      "how old is arslan?4\n",
      "<class 'str'>\n",
      "False\n",
      "False\n"
     ]
    }
   ],
   "source": [
    "# logical perators are either \"true are false\" or \"yes or no\" or \"0 or 1\"\n",
    "# equal to                            ==\n",
    "# not equal to                         !=\n",
    "# less Than                           <\n",
    "# greater than                         >\n",
    "# less than or equal to               <=\n",
    "# greater than or equal to            >=\n",
    "\n",
    "\n",
    "\n",
    "\n",
    "\n",
    "print (4==4)\n",
    "print (4<3)\n",
    "print (5>6)\n",
    "print(6<=8)\n",
    "print (2==7)\n",
    "print(\"hello world\")\n",
    "\n",
    "#  aaplication of logical opperators\n",
    "\n",
    "\n",
    "\n",
    "arslan_age=4\n",
    "age_at_school=5\n",
    "print(arslan_age==age_at_school)\n",
    "\n",
    "# input function and logical operator\n",
    "age_at_school=5\n",
    "arslan_age=input(\"how old is arslan?\" )\n",
    "print(type(arslan_age))\n",
    "print(arslan_age==age_at_school)\n",
    "\n",
    "arslan_age=4\n",
    "age_at_school= 5\n",
    "print(arslan_age==age_at_school)\n",
    "\n"
   ]
  },
  {
   "cell_type": "markdown",
   "id": "d6fed7c1",
   "metadata": {},
   "source": [
    "**08- TYPE CONVERSION**"
   ]
  },
  {
   "cell_type": "code",
   "execution_count": 11,
   "id": "d64281a4",
   "metadata": {},
   "outputs": [
    {
     "name": "stdout",
     "output_type": "stream",
     "text": [
      "20.2 type of x is: <class 'float'>\n",
      "what is your age? 21\n",
      "<class 'float'>\n",
      "what is your name? ARSLAN\n",
      "ARSLAN <class 'str'>\n"
     ]
    }
   ],
   "source": [
    "x=10        #integer\n",
    "y=10.2      #float\n",
    "z=\"hello\"   #string\n",
    "#implocit version\n",
    "x=x+y \n",
    "print (x, \"type of x is:\",   type(x))\n",
    "\n",
    "#explict type version\n",
    "age=input(\"what is your age? \")\n",
    "# age=int(age)\n",
    "print(type (float(age)))\n",
    "\n",
    "#name\n",
    "name=input(\"what is your name? \")\n",
    "print(name, type(str (name)))\n"
   ]
  },
  {
   "cell_type": "markdown",
   "id": "01402455",
   "metadata": {},
   "source": [
    "**09-IF,ELSE & ELIF**"
   ]
  },
  {
   "cell_type": "code",
   "execution_count": 12,
   "id": "bcbbc2b2",
   "metadata": {},
   "outputs": [
    {
     "name": "stdout",
     "output_type": "stream",
     "text": [
      "you should take care of arslan, he is still baby.\n"
     ]
    }
   ],
   "source": [
    "required_age_at_school=5\n",
    "arslan_age=2\n",
    "if required_age_at_school==arslan_age:\n",
    "    print('arslan can join the school')\n",
    "elif arslan_age > required_age_at_school:\n",
    "    print (\"arslan should join higher classes\")\n",
    "elif arslan_age== 2:\n",
    "    print(\"you should take care of arslan, he is still baby.\")\n",
    "else:\n",
    "     print(\"arslan can't go to scholl\")   \n",
    "\n",
    "    "
   ]
  },
  {
   "cell_type": "markdown",
   "id": "28d947ca",
   "metadata": {},
   "source": [
    "**10- FUNCTIONS**"
   ]
  },
  {
   "cell_type": "code",
   "execution_count": 13,
   "id": "3e5db0f4",
   "metadata": {},
   "outputs": [
    {
     "name": "stdout",
     "output_type": "stream",
     "text": [
      "we are learning python\n",
      "we are learning python\n",
      "we are learning python\n",
      "we learning python with Aammar\n",
      "we learning python with Aammar\n",
      "we learning python with Aammar\n",
      "38\n",
      "None\n"
     ]
    }
   ],
   "source": [
    "# defining a function\n",
    "def print_codanics():\n",
    "    print(\"we are learning python with Aammar\")\n",
    "    print(\"we are laerning python with Aammar\")\n",
    "    print(\"we are learning python with Aammar\")\n",
    "\n",
    "# print_codanics()\n",
    "\n",
    "# 2 \n",
    "def print_codanics():\n",
    "    text = \"we are learning python\"\n",
    "    print(text)\n",
    "    print(text)\n",
    "    print(text)\n",
    "print_codanics()\n",
    "\n",
    "# 3\n",
    "def print_codanics(text):\n",
    "    print(text)\n",
    "    print(text)\n",
    "    print(text)\n",
    "print_codanics(\"we learning python with Aammar\")    \n",
    "\n",
    "# defining a function if, elif and else statments\n",
    "def school_calculator(age):\n",
    "    if age==5:\n",
    "        print(\"Arslan should go to school.\")\n",
    "    elif age>5:\n",
    "        print(\"Arslan should join higer classes\")\n",
    "    else:\n",
    "        print(\"Arslan is still a babay\")\n",
    "\n",
    "# school_calculator(5)     \n",
    "\n",
    "\n",
    "# defining a function of future \n",
    "from ast import Return\n",
    "\n",
    "\n",
    "def future_age(age):\n",
    "    new_age=age+20\n",
    "    print(new_age)\n",
    "\n",
    "future_pridectid_age=future_age(18)\n",
    "print(future_pridectid_age)\n"
   ]
  },
  {
   "cell_type": "markdown",
   "id": "107e01b8",
   "metadata": {},
   "source": [
    "**11-LOOPS**"
   ]
  },
  {
   "cell_type": "code",
   "execution_count": 14,
   "id": "61587711",
   "metadata": {},
   "outputs": [
    {
     "name": "stdout",
     "output_type": "stream",
     "text": [
      "0\n",
      "1\n",
      "2\n",
      "3\n",
      "4\n",
      "5\n",
      "4\n",
      "5\n",
      "6\n",
      "7\n",
      "8\n",
      "9\n",
      "mon\n",
      "tue\n",
      "wed\n",
      "thu\n"
     ]
    }
   ],
   "source": [
    "# While and for loops\n",
    "\n",
    "# WHILE LOOP\n",
    "x=0\n",
    "while x<=5:\n",
    "    print(x)\n",
    "    x=x+1\n",
    "\n",
    "# FOR LOOP\n",
    "for x in range (4,10):\n",
    "    print(x)\n",
    "\n",
    "# array\n",
    "days= (\"mon\",\"tue\",\"wed\",\"thu\",\"fri\",\"sat\",\"sun\")\n",
    "for d in days:\n",
    "    if (d==\"fri\"):break\n",
    "    if (d==\"fri\"):continue\n",
    "    print(d)\n",
    "\n"
   ]
  },
  {
   "cell_type": "markdown",
   "id": "6f64bf25",
   "metadata": {},
   "source": [
    "**12- IMPORT LIBRARIES**"
   ]
  },
  {
   "cell_type": "code",
   "execution_count": 15,
   "id": "294fae83",
   "metadata": {},
   "outputs": [
    {
     "name": "stdout",
     "output_type": "stream",
     "text": [
      "The value of pi is 3.141592653589793\n",
      "243.33333333333334\n"
     ]
    }
   ],
   "source": [
    "# if you wat to print the value of pi\n",
    "from cmath import pi\n",
    "import math\n",
    "print(\"The value of pi is\", math. pi)\n",
    "\n",
    "import statistics\n",
    "x = [150,230,350]\n",
    "print(statistics. mean(x))\n",
    "\n",
    "#numpy and pandas"
   ]
  },
  {
   "cell_type": "markdown",
   "id": "e0ff8fbf",
   "metadata": {},
   "source": [
    "**13- TROUBLE SHOOTING**"
   ]
  },
  {
   "cell_type": "code",
   "execution_count": 16,
   "id": "2aab3eb3",
   "metadata": {},
   "outputs": [
    {
     "name": "stdout",
     "output_type": "stream",
     "text": [
      "hello Arslan\n"
     ]
    }
   ],
   "source": [
    "#print(we are learning python with Aammae)   syntax error\n",
    "\n",
    "# print(25/0)   run time error\n",
    "\n",
    "name=\"Arslan\"\n",
    "print(\"hello\", name)"
   ]
  }
 ],
 "metadata": {
  "kernelspec": {
   "display_name": "Python 3 (ipykernel)",
   "language": "python",
   "name": "python3"
  },
  "language_info": {
   "codemirror_mode": {
    "name": "ipython",
    "version": 3
   },
   "file_extension": ".py",
   "mimetype": "text/x-python",
   "name": "python",
   "nbconvert_exporter": "python",
   "pygments_lexer": "ipython3",
   "version": "3.9.7"
  }
 },
 "nbformat": 4,
 "nbformat_minor": 5
}
